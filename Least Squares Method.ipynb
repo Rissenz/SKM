{
 "cells": [
  {
   "cell_type": "code",
   "execution_count": 7,
   "metadata": {},
   "outputs": [],
   "source": [
    "import numpy as np\n",
    "import pandas as pd\n",
    "import matplotlib.pyplot as plt\n",
    "import scipy \n",
    "from scipy import optimize\n",
    "from scipy.linalg import lstsq"
   ]
  },
  {
   "cell_type": "markdown",
   "metadata": {},
   "source": [
    "## 24. Разделимые наименьшие квадраты\n",
    "\n",
    "[Каханер–Моулер–Нэш] \n",
    "\n",
    "Пусть необходимо аппроксимировать $m$ точек данных $(t_i,\\, y_i)$ $(i=1,2,\\dots,m)$ с помощью функции\n",
    "$$\n",
    "   b(t) = c_1 + c_2 t + c_3 t^2 + c_4 e^{\\lambda t}.\n",
    "$$\n",
    "Параметры $c_1,\\dots,c_4$ входят линейно, а $\\lambda$ нелинейно.\n",
    "Рассмотрим матрицу\n",
    "$$\n",
    "A(\\lambda) =\n",
    "\\left(\n",
    "\\begin{array}{cccc}\n",
    "    1 & t_1 & t_1^2 & e^{\\lambda t_1}  \\\\\n",
    "    1 & t_2 & t_2^2 & e^{\\lambda t_2}  \\\\\n",
    "    \\vdots & \\vdots & \\vdots & \\vdots  \\\\\n",
    "    1 & t_m & t_m^2 & e^{\\lambda t_m}  \\\\\n",
    "\\end{array}\n",
    "\\right)\n",
    "$$\n",
    "и векторы\n",
    "$$\n",
    "y = \n",
    "\\left(\n",
    "\\begin{array}{c}\n",
    "   y_1 \\\\ y_2 \\\\ \\vdots \\\\ y_m\n",
    "\\end{array}\n",
    "\\right),\n",
    "\\qquad\n",
    "c = \n",
    "\\left(\n",
    "\\begin{array}{c}\n",
    "   c_1 \\\\ c_2 \\\\ c_3\\\\ c_4\n",
    "\\end{array}\n",
    "\\right).\n",
    "$$\n",
    "Тогда задачу наименьших квадратов можно поставить следующим образом:\n",
    "$$\n",
    "\\min_{\\lambda}  \\min_{c}  \\|A(\\lambda) c - y\\|_2.\n",
    "$$\n",
    "Для любого заданного $\\lambda$ внутренний минимум можно найти линейным методом наименьших квадратов.\n",
    "Для нахождения внешнего минимума можно воспользоваться методом одномерной минимизации.\n",
    "\n",
    "В таблице ниже приведены две группы данных, к которым необходимо применить описанный подход.\n",
    "Единственным ли образом определяются неизвестные параметры?\n",
    "Изобразите данные на графике и постройте графики построенных моделей.\n",
    "\n",
    "```\n",
    "       t        y         y\n",
    "             Группа 1  Группа 2\n",
    " -----------------------------------\n",
    "     0.00     20.00     20.00\n",
    "     0.25     51.58     24.13\n",
    "     0.50     68.73     26.50\n",
    "     0.75     75.46     27.13\n",
    "     1.00     74.36     26.00\n",
    "     1.25     67.09     23.13\n",
    "     1.50     54.73     18.50\n",
    "     1.75     37.98     12.13\n",
    "     2.00     17.28      4.00\n",
    "```"
   ]
  },
  {
   "cell_type": "markdown",
   "metadata": {},
   "source": [
    "Создаем массивы со значениями"
   ]
  },
  {
   "cell_type": "code",
   "execution_count": 8,
   "metadata": {},
   "outputs": [],
   "source": [
    "t=np.array([0.1,0.25,0.5,0.75,1,1.25,1.5,1.75,2])\n",
    "y1=np.array([20,51.58,68.73,75.46,74.36,67.09,54.73,37.98,17.28])\n",
    "y2=np.array([20,24.13,26.5,27.13,26,23.13,18.5,12.13,4])"
   ]
  },
  {
   "cell_type": "markdown",
   "metadata": {},
   "source": [
    "С помощью $plt.plot$ визуализируем наши точки"
   ]
  },
  {
   "cell_type": "code",
   "execution_count": 9,
   "metadata": {},
   "outputs": [
    {
     "data": {
      "image/png": "[encoded data removed]",
      "text/plain": [
       "<Figure size 432x288 with 1 Axes>"
      ]
     },
     "metadata": {
      "needs_background": "light"
     },
     "output_type": "display_data"
    }
   ],
   "source": [
    "plt.plot(t, y1, '8', color='tab:orange')\n",
    "plt.plot(t, y2, '8', color='tab:brown')\n",
    "plt.xlabel('T', size=15)\n",
    "plt.ylabel('Y', size=15)\n",
    "plt.grid()\n",
    "pass"
   ]
  },
  {
   "cell_type": "markdown",
   "metadata": {},
   "source": [
    "Интерепретируем функцию $$\n",
    "   b(t) = c_1 + c_2 t + c_3 t^2 + c_4 e^{\\lambda t}.\n",
    "$$\n",
    "\n"
   ]
  },
  {
   "cell_type": "code",
   "execution_count": 10,
   "metadata": {},
   "outputs": [],
   "source": [
    "def func(_lambda, c, t):\n",
    "    return c[0] + c[1] * t + c[2] * (t ** 2) + c[3] * (np.e ** (_lambda * t))"
   ]
  },
  {
   "cell_type": "markdown",
   "metadata": {},
   "source": [
    "Создаем функцию-решатель для МНК.\n",
    "\n",
    "https://pyprog.pro/linear_algebra_functions/linalg_lstsq.html"
   ]
  },
  {
   "cell_type": "code",
   "execution_count": 11,
   "metadata": {},
   "outputs": [],
   "source": [
    "def LSQM(_lambda,group_y):\n",
    "    A = np.empty((9,4), dtype = float) #Создаем пустую матрицу размером 9 строк на 4 столбца\n",
    "    A = np.array([[1,t[0],t[0]**2,np.e**(_lambda*t[0])],\n",
    "                  [1,t[1],t[1]**2,np.e**(_lambda*t[1])],\n",
    "                   [1,t[2],t[2]**2,np.e**(_lambda*t[2])],\n",
    "                   [1,t[3],t[3]**2,np.e**(_lambda*t[3])],\n",
    "                   [1,t[4],t[4]**2,np.e**(_lambda*t[4])],\n",
    "                   [1,t[5],t[5]**2,np.e**(_lambda*t[5])],\n",
    "                   [1,t[6],t[6]**2,np.e**(_lambda*t[6])],\n",
    "                   [1,t[7],t[7]**2,np.e**(_lambda*t[7])],\n",
    "                   [1,t[8],t[8]**2,np.e**(_lambda*t[8])]]) #Заполняем пустую матрицу в соответствии с данным условием\n",
    "    \n",
    "    return np.linalg.lstsq(A, group_y,rcond=0)[0] #Используем метод наименьших квадратов из библиотеки NumPy, параметр rcond добавлен для игнорирования предупреждений"
   ]
  },
  {
   "cell_type": "markdown",
   "metadata": {},
   "source": [
    "Создаем  функцию - решатель\n"
   ]
  },
  {
   "cell_type": "code",
   "execution_count": 12,
   "metadata": {},
   "outputs": [],
   "source": [
    "def solver_y1(_lambda):   #Решатель для первой группы данных \n",
    "    c = LSQM(_lambda, y1)\n",
    "\n",
    "    approxy = func(_lambda, c, t) #Находим значения нашей функции для x\n",
    "\n",
    "    return np.sum((approxy - y1) ** 2) # Получаем и возвращаем значение среднеквадратичной ошибки\n",
    "\n",
    "def solver_y2(_lambda):   #Решатель для второй группы данных\n",
    "    c = LSQM(_lambda, y2)\n",
    "\n",
    "    approxy = func(_lambda, c, t)\n",
    "\n",
    "    return np.sum((approxy - y2) ** 2)"
   ]
  },
  {
   "cell_type": "markdown",
   "metadata": {},
   "source": [
    "В условии указано, что для нахождения минимума следует воспользоваться методом одномерной минимизации.\n",
    "Поэтому, построим график каждой функции (solver_y1, solver_y2), и найдем интервал, на котором находится минимум минимизируемой функции\n",
    "\n",
    "Для первой:\n"
   ]
  },
  {
   "cell_type": "code",
   "execution_count": 13,
   "metadata": {},
   "outputs": [
    {
     "data": {
      "text/plain": [
       "[<matplotlib.lines.Line2D at 0x28af2ae9108>]"
      ]
     },
     "execution_count": 13,
     "metadata": {},
     "output_type": "execute_result"
    },
    {
     "data": {
      "image/png": "[encoded data removed]",
      "text/plain": [
       "<Figure size 432x288 with 1 Axes>"
      ]
     },
     "metadata": {
      "needs_background": "light"
     },
     "output_type": "display_data"
    }
   ],
   "source": [
    "x_graph = np.arange(-20, 0, .01, dtype = float)\n",
    "y_graph = []\n",
    "for x in x_graph:\n",
    "    y_graph.append(solver_y1(x))\n",
    "    \n",
    "plt.grid()\n",
    "plt.plot(x_graph, y_graph)\n"
   ]
  },
  {
   "cell_type": "markdown",
   "metadata": {},
   "source": [
    "Как мы можем видеть, минимум присутствует на определённом интервале, приблизительно (-12 ; -2.5)"
   ]
  },
  {
   "cell_type": "markdown",
   "metadata": {},
   "source": [
    "Для второй:"
   ]
  },
  {
   "cell_type": "code",
   "execution_count": 58,
   "metadata": {},
   "outputs": [
    {
     "data": {
      "text/plain": [
       "[<matplotlib.lines.Line2D at 0x28af5e02d48>]"
      ]
     },
     "execution_count": 58,
     "metadata": {},
     "output_type": "execute_result"
    },
    {
     "data": {
      "image/png": "[encoded data removed]",
      "text/plain": [
       "<Figure size 432x288 with 1 Axes>"
      ]
     },
     "metadata": {
      "needs_background": "light"
     },
     "output_type": "display_data"
    }
   ],
   "source": [
    "x_graph = np.arange(-100, 0, .1, dtype = float)\n",
    "y_graph = []\n",
    "for x in x_graph:\n",
    "    y_graph.append(solver_y2(x))\n",
    "    \n",
    "plt.plot(x_graph, y_graph)"
   ]
  },
  {
   "cell_type": "markdown",
   "metadata": {},
   "source": [
    "Как мы можем видеть, во втором случае - функция непрерывно возрастает, поэтому использовать метод одномерной минимизации будет бессмысленно\n",
    "\n",
    "Тогда возьмем  приблизительное значение, _lambda = -10"
   ]
  },
  {
   "cell_type": "markdown",
   "metadata": {},
   "source": [
    "Построим наши графики аппроксимации"
   ]
  },
  {
   "cell_type": "code",
   "execution_count": 64,
   "metadata": {},
   "outputs": [
    {
     "data": {
      "text/plain": [
       "[<matplotlib.lines.Line2D at 0x28af71ed988>]"
      ]
     },
     "execution_count": 64,
     "metadata": {},
     "output_type": "execute_result"
    },
    {
     "data": {
      "image/png": "[encoded data removed]",
      "text/plain": [
       "<Figure size 432x288 with 1 Axes>"
      ]
     },
     "metadata": {
      "needs_background": "light"
     },
     "output_type": "display_data"
    }
   ],
   "source": [
    "import scipy.optimize\n",
    "_lambda = optimize.brent(solver_y1,brack=(-12,2.5)) #Использую Метод Брента - одномерную минимизацию\n",
    "\n",
    "t_val1 = np.arange(0.1, 2.01, 0.01)\n",
    "C = LSQM(_lambda, y1)\n",
    "y_val1 = func(_lambda, C, t_val1)\n",
    "\n",
    "plt.grid()\n",
    "plt.plot(t_val1, y_val1)\n",
    "plt.plot(t, y1, '8')"
   ]
  },
  {
   "cell_type": "code",
   "execution_count": 52,
   "metadata": {},
   "outputs": [
    {
     "data": {
      "text/plain": [
       "[<matplotlib.lines.Line2D at 0x28af5b80408>]"
      ]
     },
     "execution_count": 52,
     "metadata": {},
     "output_type": "execute_result"
    },
    {
     "data": {
      "image/png": "[encoded data removed]",
      "text/plain": [
       "<Figure size 432x288 with 1 Axes>"
      ]
     },
     "metadata": {
      "needs_background": "light"
     },
     "output_type": "display_data"
    }
   ],
   "source": [
    "_lambda = -10\n",
    "\n",
    "t_val2 = np.arange(0.1, 2.01, 0.01, dtype = float)\n",
    "C = LSQM(_lambda, y2)\n",
    "y_val2 = func(_lambda, C, t_val2)\n",
    "\n",
    "plt.grid()\n",
    "plt.plot(t_val2, y_val2)\n",
    "plt.plot(t, y2, '8')"
   ]
  },
  {
   "cell_type": "code",
   "execution_count": 65,
   "metadata": {},
   "outputs": [
    {
     "data": {
      "text/plain": [
       "<matplotlib.legend.Legend at 0x28af726cd08>"
      ]
     },
     "execution_count": 65,
     "metadata": {},
     "output_type": "execute_result"
    },
    {
     "data": {
      "image/png": "[encoded data removed]",
      "text/plain": [
       "<Figure size 432x288 with 1 Axes>"
      ]
     },
     "metadata": {
      "needs_background": "light"
     },
     "output_type": "display_data"
    }
   ],
   "source": [
    "#Отобразим на графике наши точки и аппроксимацию\n",
    "plt.xlabel('T', size=15)\n",
    "plt.ylabel('Y', size=15)\n",
    "plt.plot(t_val1, y_val1,color = 'cyan', label='Аппроксимация первой группы')\n",
    "plt.plot(t, y1, '8',label='Первая группа')\n",
    "plt.grid()\n",
    "plt.plot(t_val2, y_val2,color = 'purple',label='Аппроксимация второй группы')\n",
    "plt.plot(t, y2, '8',label='Вторая группа')\n",
    "plt.legend(loc = 'lower left', fontsize = 'x-small')"
   ]
  },
  {
   "cell_type": "markdown",
   "metadata": {},
   "source": [
    "Вывод\n",
    "\n",
    "В первом случае минимум может быть определён единственным образом, т.к из графика внешней функции видно, что минимум существует на определённом интервале. Поэтому мы можем найти его методом одномерной минимизации.\n",
    "\n",
    "Во втором случае минимум с помощью одномерной минимизации не может быть определён, т.к график внешней функции непрерывно возрастает. Поэтому мы можем подобрать лишь приблизительное значение. В данном конкретном случае таким значением оказалось число -10."
   ]
  }
 ],
 "metadata": {
  "kernelspec": {
   "display_name": "Python 3",
   "language": "python",
   "name": "python3"
  },
  "language_info": {
   "codemirror_mode": {
    "name": "ipython",
    "version": 3
   },
   "file_extension": ".py",
   "mimetype": "text/x-python",
   "name": "python",
   "nbconvert_exporter": "python",
   "pygments_lexer": "ipython3",
   "version": "3.7.6"
  }
 },
 "nbformat": 4,
 "nbformat_minor": 4
}
